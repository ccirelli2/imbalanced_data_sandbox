{
 "cells": [
  {
   "cell_type": "markdown",
   "id": "9bf185bc-5e36-4fc2-b79a-613ae20dbd6d",
   "metadata": {},
   "source": [
    "# Bert ESG Tutorials\n",
    "\n",
    "\n",
    "\n",
    "**References**\n",
    "\n",
    "\n",
    "1. https://towardsdatascience.com/nlp-meets-sustainable-investing-d0542b3c264b\n",
    "\n",
    "\n"
   ]
  },
  {
   "cell_type": "code",
   "execution_count": null,
   "id": "84caefe1-40c0-4e84-82d2-37d9112e2f09",
   "metadata": {},
   "outputs": [],
   "source": []
  },
  {
   "cell_type": "code",
   "execution_count": null,
   "id": "1b97cbaa-f626-4d0a-9a05-f9fdf52b49c4",
   "metadata": {},
   "outputs": [],
   "source": []
  }
 ],
 "metadata": {
  "kernelspec": {
   "display_name": "Python 3 (ipykernel)",
   "language": "python",
   "name": "python3"
  },
  "language_info": {
   "codemirror_mode": {
    "name": "ipython",
    "version": 3
   },
   "file_extension": ".py",
   "mimetype": "text/x-python",
   "name": "python",
   "nbconvert_exporter": "python",
   "pygments_lexer": "ipython3",
   "version": "3.9.16"
  }
 },
 "nbformat": 4,
 "nbformat_minor": 5
}
